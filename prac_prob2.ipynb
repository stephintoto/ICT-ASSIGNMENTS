{
  "nbformat": 4,
  "nbformat_minor": 0,
  "metadata": {
    "colab": {
      "provenance": [],
      "authorship_tag": "ABX9TyOcKIvBJaLjJgec3wgzYm+e",
      "include_colab_link": true
    },
    "kernelspec": {
      "name": "python3",
      "display_name": "Python 3"
    },
    "language_info": {
      "name": "python"
    }
  },
  "cells": [
    {
      "cell_type": "markdown",
      "metadata": {
        "id": "view-in-github",
        "colab_type": "text"
      },
      "source": [
        "<a href=\"https://colab.research.google.com/github/stephintoto/ICT-ASSIGNMENTS/blob/main/prac_prob2.ipynb\" target=\"_parent\"><img src=\"https://colab.research.google.com/assets/colab-badge.svg\" alt=\"Open In Colab\"/></a>"
      ]
    },
    {
      "cell_type": "code",
      "source": [
        "string = input(\"Enter a string value: \")\n",
        "char_count = {}\n",
        "for char in string:\n",
        "  if char in char_count:\n",
        "    char_count[char] += 1\n",
        "  else:\n",
        "    char_count[char] = 1\n",
        "for char, count in char_count.items():\n",
        "  print(f\"{char}={count}\", end=\", \")"
      ],
      "metadata": {
        "colab": {
          "base_uri": "https://localhost:8080/"
        },
        "id": "-So56mcdF1Cf",
        "outputId": "34de2d8d-0897-4d95-f6ae-bd5fcbfd9915"
      },
      "execution_count": 1,
      "outputs": [
        {
          "output_type": "stream",
          "name": "stdout",
          "text": [
            "Enter a string value: stephin\n",
            "s=1, t=1, e=1, p=1, h=1, i=1, n=1, "
          ]
        }
      ]
    },
    {
      "cell_type": "code",
      "source": [
        "def find_max(a, b, c):\n",
        "  return max(a, b, c)\n",
        "\n",
        "result = find_max(34, 12, 7)\n",
        "print(result)\n"
      ],
      "metadata": {
        "colab": {
          "base_uri": "https://localhost:8080/"
        },
        "id": "uVkj-dQdF3l7",
        "outputId": "cf837c74-cb9b-4eb0-be12-699afa7a1244"
      },
      "execution_count": 2,
      "outputs": [
        {
          "output_type": "stream",
          "name": "stdout",
          "text": [
            "34\n"
          ]
        }
      ]
    },
    {
      "cell_type": "code",
      "source": [
        "def exponent(base,exp):\n",
        "  return base**exp\n",
        "\n",
        "base = int(input(\"Enter the base: \"))\n",
        "exp = int(input(\"Enter the exponent: \"))\n",
        "result = exponent(base, exp)\n",
        "print(result)"
      ],
      "metadata": {
        "colab": {
          "base_uri": "https://localhost:8080/"
        },
        "id": "8v6iyYkJGaoY",
        "outputId": "c2ff5311-194b-4829-bf0b-a664c1ca49c6"
      },
      "execution_count": 3,
      "outputs": [
        {
          "output_type": "stream",
          "name": "stdout",
          "text": [
            "Enter the base: 3\n",
            "Enter the exponent: 2\n",
            "9\n"
          ]
        }
      ]
    },
    {
      "cell_type": "code",
      "source": [
        "def sum_of_cubes(n):\n",
        "  sum = 0\n",
        "  for i in range(1, n):\n",
        "\n",
        "    sum += i**3\n",
        "  return sum\n",
        "\n",
        "number = int(input(\"Enter a positive integer: \"))\n",
        "result = sum_of_cubes(number)\n",
        "print(\"Sum of cubes:\", result)\n"
      ],
      "metadata": {
        "colab": {
          "base_uri": "https://localhost:8080/"
        },
        "id": "yGP7IE59GbW3",
        "outputId": "d8691acf-c0b9-4085-a9c7-121679455183"
      },
      "execution_count": 5,
      "outputs": [
        {
          "output_type": "stream",
          "name": "stdout",
          "text": [
            "Enter a positive integer: 4\n",
            "Sum of cubes: 36\n"
          ]
        }
      ]
    },
    {
      "cell_type": "code",
      "source": [
        "\n",
        "for num in range(1, 11):\n",
        "\n",
        "    if num % 2 == 0 and num % 5 == 0:\n",
        "        print(\"FizzBuzz\", end=' ')\n",
        "\n",
        "    elif num % 2 == 0:\n",
        "        print(\"Fizz\", end=' ')\n",
        "\n",
        "    elif num % 5 == 0:\n",
        "        print(\"Buzz\", end=' ')\n",
        "\n",
        "    else:\n",
        "        print(num, end=' ')\n",
        "\n",
        "print()\n"
      ],
      "metadata": {
        "colab": {
          "base_uri": "https://localhost:8080/"
        },
        "id": "LqoZyH3KHPb1",
        "outputId": "56bd6a04-30e2-4248-c6f0-195bedca9651"
      },
      "execution_count": 7,
      "outputs": [
        {
          "output_type": "stream",
          "name": "stdout",
          "text": [
            "1 Fizz 3 Fizz Buzz Fizz 7 Fizz 9 FizzBuzz \n"
          ]
        }
      ]
    },
    {
      "cell_type": "code",
      "source": [
        "\n",
        "def most_frequent(List):\n",
        "  return max(set(List), key = List.count)\n",
        "\n",
        "List = [2, 1, 2, 2, 1, 3]\n",
        "print(most_frequent(List))\n"
      ],
      "metadata": {
        "colab": {
          "base_uri": "https://localhost:8080/"
        },
        "id": "bJzPIuQEIX7s",
        "outputId": "6044a5ad-e58b-4bd6-fe84-b2cc99217e0c"
      },
      "execution_count": 8,
      "outputs": [
        {
          "output_type": "stream",
          "name": "stdout",
          "text": [
            "2\n"
          ]
        }
      ]
    },
    {
      "cell_type": "code",
      "source": [
        "def sum_of_squares(numbers):\n",
        "  sum = 0\n",
        "  for num in numbers:\n",
        "    sum += num**2\n",
        "  return sum\n",
        "\n",
        "numbers = [1, 2, 3, 4, 5]\n",
        "result = sum_of_squares(numbers)\n",
        "print(\"Sum of squares:\", result)"
      ],
      "metadata": {
        "colab": {
          "base_uri": "https://localhost:8080/"
        },
        "id": "Fpt7zWfEJpTk",
        "outputId": "d8c04a9e-0468-465a-e2ca-8430ef0c43c9"
      },
      "execution_count": 9,
      "outputs": [
        {
          "output_type": "stream",
          "name": "stdout",
          "text": [
            "Sum of squares: 55\n"
          ]
        }
      ]
    },
    {
      "cell_type": "code",
      "source": [
        "\n",
        "for i in range(1, 16):\n",
        "  if i % 2 == 0:\n",
        "    print(f\"{i}-even\")\n",
        "  else:\n",
        "    print(f\"{i}-odd\")\n"
      ],
      "metadata": {
        "colab": {
          "base_uri": "https://localhost:8080/"
        },
        "id": "BQj5Ty_5UH8s",
        "outputId": "3794f347-3e47-49aa-a11d-08da6ce3cb6a"
      },
      "execution_count": 10,
      "outputs": [
        {
          "output_type": "stream",
          "name": "stdout",
          "text": [
            "1-odd\n",
            "2-even\n",
            "3-odd\n",
            "4-even\n",
            "5-odd\n",
            "6-even\n",
            "7-odd\n",
            "8-even\n",
            "9-odd\n",
            "10-even\n",
            "11-odd\n",
            "12-even\n",
            "13-odd\n",
            "14-even\n",
            "15-odd\n"
          ]
        }
      ]
    },
    {
      "cell_type": "code",
      "source": [
        "\n",
        "def cel_to_fahr(cel):\n",
        "  fahr = (cel * 9/5) + 32\n",
        "  return fahr\n",
        "\n",
        "def fahr_to_cel(fahr):\n",
        "  cel = (fahr - 32) * 5/9\n",
        "  return cel\n",
        "\n",
        "temp_fahr = float(input(\"Temperature in Fahrenheit = \"))\n",
        "temp_cel = fahr_to_cel(temp_fahr)\n",
        "print(\"Temperature in Celsius =\", round(temp_cel))\n",
        "\n",
        "temp_cel = float(input(\"Temperature in Celsius = \"))\n",
        "temp_fahr = cel_to_fahr(temp_cel)\n",
        "print(\"Temperature in Fahrenheit =\", round(temp_fahr))\n"
      ],
      "metadata": {
        "colab": {
          "base_uri": "https://localhost:8080/"
        },
        "id": "k3CWDMNXVCj4",
        "outputId": "474fd71f-75a9-4d2f-f424-2b3409493f80"
      },
      "execution_count": 17,
      "outputs": [
        {
          "output_type": "stream",
          "name": "stdout",
          "text": [
            "Temperature in Fahrenheit = 41\n",
            "Temperature in Celsius = 5\n",
            "Temperature in Celsius = 34\n",
            "Temperature in Fahrenheit = 93\n"
          ]
        }
      ]
    },
    {
      "cell_type": "code",
      "source": [
        "def factorial(n):\n",
        "  if n == 0:\n",
        "    return 1\n",
        "  else:\n",
        "    return n * factorial(n - 1)\n",
        "number = int(input(\"Enter a non-negative integer: \"))\n",
        "result = factorial(number)\n",
        "print(\"Factorial of\", number, \"is:\", result)\n"
      ],
      "metadata": {
        "colab": {
          "base_uri": "https://localhost:8080/"
        },
        "id": "StOZxlCpYn7W",
        "outputId": "b77c8859-db2d-47ec-825f-e6aa9f9fa7f1"
      },
      "execution_count": 18,
      "outputs": [
        {
          "output_type": "stream",
          "name": "stdout",
          "text": [
            "Enter a non-negative integer: 5\n",
            "Factorial of 5 is: 120\n"
          ]
        }
      ]
    },
    {
      "cell_type": "code",
      "source": [],
      "metadata": {
        "id": "TL3m9ZjkYq4c"
      },
      "execution_count": null,
      "outputs": []
    }
  ]
}