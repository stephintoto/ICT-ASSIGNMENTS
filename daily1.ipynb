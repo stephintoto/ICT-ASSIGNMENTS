{
  "nbformat": 4,
  "nbformat_minor": 0,
  "metadata": {
    "colab": {
      "provenance": [],
      "include_colab_link": true
    },
    "kernelspec": {
      "name": "python3",
      "display_name": "Python 3"
    },
    "language_info": {
      "name": "python"
    }
  },
  "cells": [
    {
      "cell_type": "markdown",
      "metadata": {
        "id": "view-in-github",
        "colab_type": "text"
      },
      "source": [
        "<a href=\"https://colab.research.google.com/github/stephintoto/ICT-ASSIGNMENTS/blob/main/daily1.ipynb\" target=\"_parent\"><img src=\"https://colab.research.google.com/assets/colab-badge.svg\" alt=\"Open In Colab\"/></a>"
      ]
    },
    {
      "cell_type": "markdown",
      "source": [
        "DAILY TASK 1\n"
      ],
      "metadata": {
        "id": "IqVAVFzKxr2f"
      }
    },
    {
      "cell_type": "code",
      "source": [
        "# Given the string \"Hello, World!\", extract and print the substring \"Hello\".\n",
        "s = \"Hello, World!\"\n",
        "substring = s[0:5]\n",
        "print(substring)\n"
      ],
      "metadata": {
        "colab": {
          "base_uri": "https://localhost:8080/"
        },
        "id": "fSDCUILOxwcZ",
        "outputId": "15fa0127-9846-45ab-c71d-2165ff7134ff"
      },
      "execution_count": null,
      "outputs": [
        {
          "output_type": "stream",
          "name": "stdout",
          "text": [
            "Hello\n"
          ]
        }
      ]
    },
    {
      "cell_type": "code",
      "source": [
        "# Given the string \"Python is fun\", extract and print the substring \"is\".\n",
        "s = \"Python is fun\"\n",
        "substring = s[7:9]\n",
        "print(substring)"
      ],
      "metadata": {
        "colab": {
          "base_uri": "https://localhost:8080/"
        },
        "id": "38Mj8IcJx_1c",
        "outputId": "34db2807-7a89-4d43-e7f7-0260ba1ef4e1"
      },
      "execution_count": null,
      "outputs": [
        {
          "output_type": "stream",
          "name": "stdout",
          "text": [
            "is\n"
          ]
        }
      ]
    },
    {
      "cell_type": "code",
      "source": [
        "#Given the string \"Programming\", extract and print the substring \"gram\" using slicing indices.\n",
        "s = \"Programming\"\n",
        "substring = s[3:7]\n",
        "print(substring)\n",
        "\n"
      ],
      "metadata": {
        "colab": {
          "base_uri": "https://localhost:8080/"
        },
        "id": "YYogKrU0yLiw",
        "outputId": "9bb96c20-e28c-4dbf-af85-c292e3815a83"
      },
      "execution_count": null,
      "outputs": [
        {
          "output_type": "stream",
          "name": "stdout",
          "text": [
            "gram\n"
          ]
        }
      ]
    },
    {
      "cell_type": "code",
      "source": [
        "# Given the string \"abcdefgh\", use slicing to print only the characters at even indices. '\n",
        "s = \"abcdefgh\"\n",
        "even_indices= s[::2]\n",
        "print(even_indices)\n"
      ],
      "metadata": {
        "colab": {
          "base_uri": "https://localhost:8080/"
        },
        "id": "a9ZDr4ThybjT",
        "outputId": "83201262-87ee-4ba1-9ff5-7610fc1710db"
      },
      "execution_count": null,
      "outputs": [
        {
          "output_type": "stream",
          "name": "stdout",
          "text": [
            "aceg\n"
          ]
        }
      ]
    },
    {
      "cell_type": "code",
      "source": [
        "#Given the string \"abcdefg\", use negative indices to extract and print the substring \"efg\"\n",
        "\n",
        "s = \"abcdefg\"\n",
        "substring = s[-3:]\n",
        "print(substring)\n"
      ],
      "metadata": {
        "colab": {
          "base_uri": "https://localhost:8080/"
        },
        "id": "4waolYuayv5F",
        "outputId": "ab1e86cd-c1b8-4373-a754-1a5d5317801b"
      },
      "execution_count": null,
      "outputs": [
        {
          "output_type": "stream",
          "name": "stdout",
          "text": [
            "efg\n"
          ]
        }
      ]
    },
    {
      "cell_type": "code",
      "source": [
        "#Given the string \"Data Science\", use negative indices to extract and print the last three characters.\n",
        "\n",
        "s = \"Data Science\"\n",
        "substring = s[-3:]\n",
        "print(substring)\n"
      ],
      "metadata": {
        "colab": {
          "base_uri": "https://localhost:8080/"
        },
        "id": "UffYKdaoy7kM",
        "outputId": "bfb41cc7-e559-4d65-8499-2cf8403cb1fb"
      },
      "execution_count": null,
      "outputs": [
        {
          "output_type": "stream",
          "name": "stdout",
          "text": [
            "nce\n"
          ]
        }
      ]
    },
    {
      "cell_type": "code",
      "source": [
        "#Given the string \"abcdefghij\", use slicing with a step to print every second character.\n",
        "s = \"abcdefghij\"\n",
        "every_second = s[1::2]\n",
        "print(every_second)"
      ],
      "metadata": {
        "colab": {
          "base_uri": "https://localhost:8080/"
        },
        "id": "cs1yuhnmzJA6",
        "outputId": "f90a5742-7288-4d4f-c8df-8f2bd0aeee34"
      },
      "execution_count": null,
      "outputs": [
        {
          "output_type": "stream",
          "name": "stdout",
          "text": [
            "bdfhj\n"
          ]
        }
      ]
    },
    {
      "cell_type": "code",
      "source": [
        "#Given the string \"1234567890\", use slicing with a step to print the odd digits.\n",
        "s = \"1234567890\"\n",
        "odd_digits = s[0::2]\n",
        "print(odd_digits)\n"
      ],
      "metadata": {
        "colab": {
          "base_uri": "https://localhost:8080/"
        },
        "id": "pICC9nZlzY8O",
        "outputId": "d1648718-cb18-4c37-9171-d9df3cfaa07d"
      },
      "execution_count": null,
      "outputs": [
        {
          "output_type": "stream",
          "name": "stdout",
          "text": [
            "13579\n"
          ]
        }
      ]
    },
    {
      "cell_type": "code",
      "source": [
        "#Given the string \"Hello\", use slicing to print the string in reverse order.\n",
        "s = \"Hello\"\n",
        "reversed_string = s[::-1]\n",
        "print(reversed_string)\n"
      ],
      "metadata": {
        "id": "iOmN67w90A2-",
        "outputId": "3a177d70-21a1-4f7b-943f-21655b73531c",
        "colab": {
          "base_uri": "https://localhost:8080/"
        }
      },
      "execution_count": null,
      "outputs": [
        {
          "output_type": "stream",
          "name": "stdout",
          "text": [
            "olleH\n"
          ]
        }
      ]
    },
    {
      "cell_type": "code",
      "source": [
        "#Given the string \"abcdefghijk\", extract and print the substring \"acegik\" using slicing.\n",
        "string = 'abcdefghijk'\n",
        "substring = string[0:11:2]\n",
        "print(substring)"
      ],
      "metadata": {
        "id": "Gdu9QhjJ0DCU",
        "colab": {
          "base_uri": "https://localhost:8080/"
        },
        "outputId": "aa51ddb3-3f59-4209-a4e4-992ee874c571"
      },
      "execution_count": null,
      "outputs": [
        {
          "output_type": "stream",
          "name": "stdout",
          "text": [
            "acegik\n"
          ]
        }
      ]
    },
    {
      "cell_type": "code",
      "source": [
        "#Write a program to find sum of all elements in a list of integers.\n",
        "integers = [1, 2, 3, 4, 5]\n",
        "sum_of_integers = sum(integers)\n",
        "print(sum_of_integers)"
      ],
      "metadata": {
        "colab": {
          "base_uri": "https://localhost:8080/"
        },
        "id": "j2CAeQsLCi25",
        "outputId": "dd03976f-6aec-438a-cb4f-d078c0fcffb6"
      },
      "execution_count": null,
      "outputs": [
        {
          "output_type": "stream",
          "name": "stdout",
          "text": [
            "15\n"
          ]
        }
      ]
    },
    {
      "cell_type": "code",
      "source": [
        "#Input a sentence as a string.  a) Print its length  b) Print the first half of string\n",
        "sentence = input(\"Enter a sentence: \")\n",
        "print(\"Length of the sentence:\", len(sentence))\n",
        "half_length = len(sentence) // 2\n",
        "first_half = sentence[:half_length]\n",
        "print(\"First half of the sentence:\", first_half)"
      ],
      "metadata": {
        "colab": {
          "base_uri": "https://localhost:8080/"
        },
        "id": "-yptFWHvDBvd",
        "outputId": "646fc13e-0d29-4e51-946b-a23d77854c88"
      },
      "execution_count": null,
      "outputs": [
        {
          "output_type": "stream",
          "name": "stdout",
          "text": [
            "Enter a sentence: stephin\n",
            "Length of the sentence: 7\n",
            "First half of the sentence: ste\n"
          ]
        }
      ]
    },
    {
      "cell_type": "code",
      "source": [
        "#Write a program to enter a tuple of integers as (78,45,32,19,82,77,40,39). Change the third value in the tuple to 100\n",
        "my_tuple = (78, 45, 32, 19, 82, 77, 40, 39)\n",
        "my_list = list(my_tuple)\n",
        "my_list[2] = 100\n",
        "my_tuple = tuple(my_list)\n",
        "print(my_tuple)\n"
      ],
      "metadata": {
        "id": "Ncxfd--8Dth1",
        "colab": {
          "base_uri": "https://localhost:8080/"
        },
        "outputId": "6fa93211-01b5-4a74-b1aa-c99633f39bc3"
      },
      "execution_count": null,
      "outputs": [
        {
          "output_type": "stream",
          "name": "stdout",
          "text": [
            "(78, 45, 100, 19, 82, 77, 40, 39)\n"
          ]
        }
      ]
    },
    {
      "cell_type": "code",
      "source": [
        "#14\n",
        "listA=[19,32,10,55,31,32,94,29,10,65,77,40,40]\n",
        "listA.remove(32)\n",
        "print('a)',listA)\n",
        "listA=[19,32,10,55,31,32,94,29,10,65,77,40,40]\n",
        "listA = [x for x in listA if x != 40]\n",
        "print('b)',listA)\n",
        "listA=[19,32,10,55,31,32,94,29,10,65,77,40,40]\n",
        "listA.pop(5)\n",
        "print('c)',listA)\n",
        "listA=[19,32,10,55,31,32,94,29,10,65,77,40,40]\n",
        "listA[9] = 300\n",
        "print('d)',listA)\n",
        "listA=[19,32,10,55,31,32,94,29,10,65,77,40,40]\n",
        "listA.insert(2, 200)\n",
        "print('e)',listA)\n",
        "listA=[19,32,10,55,31,32,94,29,10,65,77,40,40]\n",
        "print('f)')\n",
        "final_length = len(listA)\n",
        "final_max = max(listA)\n",
        "final_sum = sum(listA)\n",
        "\n",
        "print(\"Final List:\", listA)\n",
        "print(\"Length:\", final_length)\n",
        "print(\"Maximum Value:\", final_max)\n",
        "print(\"Sum of Elements:\", final_sum)\n",
        "\n"
      ],
      "metadata": {
        "colab": {
          "base_uri": "https://localhost:8080/"
        },
        "id": "BpNrKfJGKlz6",
        "outputId": "053cd2c0-4a66-44ed-ec81-2ff81a51bf26"
      },
      "execution_count": 2,
      "outputs": [
        {
          "output_type": "stream",
          "name": "stdout",
          "text": [
            "a) [19, 10, 55, 31, 32, 94, 29, 10, 65, 77, 40, 40]\n",
            "b) [19, 32, 10, 55, 31, 32, 94, 29, 10, 65, 77]\n",
            "c) [19, 32, 10, 55, 31, 94, 29, 10, 65, 77, 40, 40]\n",
            "d) [19, 32, 10, 55, 31, 32, 94, 29, 10, 300, 77, 40, 40]\n",
            "e) [19, 32, 200, 10, 55, 31, 32, 94, 29, 10, 65, 77, 40, 40]\n",
            "f)\n",
            "Final List: [19, 32, 10, 55, 31, 32, 94, 29, 10, 65, 77, 40, 40]\n",
            "Length: 13\n",
            "Maximum Value: 94\n",
            "Sum of Elements: 534\n"
          ]
        }
      ]
    },
    {
      "cell_type": "code",
      "source": [
        "original= \"The day has been long\"\n",
        "\n",
        "# (a) Delete the value at index = 4\n",
        "modified= original[:4] + original[5:]\n",
        "print('\\n')\n",
        "print(modified)\n",
        "\n",
        "# (b) Print the string 4 times in a single line with space between each repetition\n",
        "print((original + \" \") * 4)\n",
        "\n",
        "# (c) Print the string 3 times in a new line each time\n",
        "for i in range(3):\n",
        "    print(original,'\\n')\n",
        "\n",
        "# (d) Modify the string at index 7 as 'A'\n",
        "modified = original[:7] + 'A' + original[8:]\n",
        "print(modified)\n",
        "\n",
        "# (e) Print the string from index 4 to 15\n",
        "substring = original[4:15]\n",
        "print(substring)\n",
        "\n",
        "# (f) Print the final string with its length\n",
        "final_length = len(original)\n",
        "print(\"Final String:\", original)\n",
        "print(\"Length:\", final_length)"
      ],
      "metadata": {
        "colab": {
          "base_uri": "https://localhost:8080/"
        },
        "id": "jd7tvnYXMY6U",
        "outputId": "d19ecca3-0eef-436e-b7ad-2108e0fd84e1"
      },
      "execution_count": 10,
      "outputs": [
        {
          "output_type": "stream",
          "name": "stdout",
          "text": [
            "\n",
            "\n",
            "The ay has been long\n",
            "The day has been long The day has been long The day has been long The day has been long \n",
            "The day has been long \n",
            "\n",
            "The day has been long \n",
            "\n",
            "The day has been long \n",
            "\n",
            "The dayAhas been long\n",
            "day has bee\n",
            "Final String: The day has been long\n",
            "Length: 21\n"
          ]
        }
      ]
    }
  ]
}