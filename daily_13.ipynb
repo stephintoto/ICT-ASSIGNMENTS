{
  "nbformat": 4,
  "nbformat_minor": 0,
  "metadata": {
    "colab": {
      "provenance": [],
      "authorship_tag": "ABX9TyN/cerPqw7zVWkOQctWpoCq",
      "include_colab_link": true
    },
    "kernelspec": {
      "name": "python3",
      "display_name": "Python 3"
    },
    "language_info": {
      "name": "python"
    }
  },
  "cells": [
    {
      "cell_type": "markdown",
      "metadata": {
        "id": "view-in-github",
        "colab_type": "text"
      },
      "source": [
        "<a href=\"https://colab.research.google.com/github/stephintoto/ICT-ASSIGNMENTS/blob/main/daily_13.ipynb\" target=\"_parent\"><img src=\"https://colab.research.google.com/assets/colab-badge.svg\" alt=\"Open In Colab\"/></a>"
      ]
    },
    {
      "cell_type": "code",
      "source": [
        "age1 = int(input(\"Enter age of person 1: \"))\n",
        "age2 = int(input(\"Enter age of person 2: \"))\n",
        "age3 = int(input(\"Enter age of person 3: \"))\n",
        "\n",
        "oldest = max(age1, age2, age3)\n",
        "youngest = min(age1, age2, age3)\n",
        "\n",
        "print(\"The oldest person is\", oldest)\n",
        "print(\"The youngest person is\", youngest)"
      ],
      "metadata": {
        "colab": {
          "base_uri": "https://localhost:8080/"
        },
        "id": "GqBmmIzlV-nJ",
        "outputId": "31acc13c-fa47-441f-84b9-efd8e65f5e75"
      },
      "execution_count": 1,
      "outputs": [
        {
          "output_type": "stream",
          "name": "stdout",
          "text": [
            "Enter age of person 1: 23\n",
            "Enter age of person 2: 34\n",
            "Enter age of person 3: 12\n",
            "The oldest person is 34\n",
            "The youngest person is 12\n"
          ]
        }
      ]
    },
    {
      "cell_type": "code",
      "source": [
        "score = int(input(\"Enter your exam score: \"))\n",
        "\n",
        "if score >= 90:\n",
        "  grade = \"A\"\n",
        "elif score >= 80:\n",
        "  grade = \"B\"\n",
        "elif score >= 70:\n",
        "  grade = \"C\"\n",
        "else:\n",
        "  grade = \"F\"\n",
        "\n",
        "print(\"Your grade is:\", grade)\n"
      ],
      "metadata": {
        "colab": {
          "base_uri": "https://localhost:8080/"
        },
        "id": "invcZAwMWIDT",
        "outputId": "269cf8f6-00cb-4fca-eb02-6520b462ef1d"
      },
      "execution_count": 2,
      "outputs": [
        {
          "output_type": "stream",
          "name": "stdout",
          "text": [
            "Enter your exam score: 87\n",
            "Your grade is: B\n"
          ]
        }
      ]
    },
    {
      "cell_type": "code",
      "source": [
        "\n",
        "grocery_list = []\n",
        "num_items = int(input(\"num of items \"))\n",
        "\n",
        "for i in range(num_items):\n",
        "  item = input(\"Enter item: \")\n",
        "  grocery_list.append(item)\n",
        "\n",
        "grocery_list.sort()\n",
        "\n",
        "print(\"Your organized grocery list:\")\n",
        "for item in grocery_list:\n",
        "  print(item)\n"
      ],
      "metadata": {
        "colab": {
          "base_uri": "https://localhost:8080/"
        },
        "id": "p6626-HmWXDV",
        "outputId": "09c477de-8b85-4121-d90b-077e881acdd5"
      },
      "execution_count": 3,
      "outputs": [
        {
          "output_type": "stream",
          "name": "stdout",
          "text": [
            "num of items 4\n",
            "Enter item: cake\n",
            "Enter item: sugar\n",
            "Enter item: tea\n",
            "Enter item: coffee\n",
            "Your organized grocery list:\n",
            "cake\n",
            "coffee\n",
            "sugar\n",
            "tea\n"
          ]
        }
      ]
    },
    {
      "cell_type": "code",
      "source": [
        "email = input(\"Enter your email address: \")\n",
        "\n",
        "if \"@\" in email and \".\" in email.split(\"@\")[1]:\n",
        "  print(\"Valid email address\")\n",
        "else:\n",
        "  print(\"Invalid email address\")"
      ],
      "metadata": {
        "colab": {
          "base_uri": "https://localhost:8080/"
        },
        "id": "-NC8Z3u4W7v5",
        "outputId": "eae3b40e-de2a-466d-c2df-6e7a4444c008"
      },
      "execution_count": 4,
      "outputs": [
        {
          "output_type": "stream",
          "name": "stdout",
          "text": [
            "Enter your email address: step@email.com\n",
            "Valid email address\n"
          ]
        }
      ]
    },
    {
      "cell_type": "code",
      "source": [
        "\n",
        "days_delay = int(input(\"number of days delayed: \"))\n",
        "\n",
        "if days_delay <= 7:\n",
        "  fine = 0\n",
        "elif days_delay <= 30:\n",
        "  fine = (days_delay - 7) * 2\n",
        "else:\n",
        "  fine = (days_delay- 7) * 5\n",
        "\n",
        "print(\"Total fine: \", fine, \"rupees\")\n"
      ],
      "metadata": {
        "colab": {
          "base_uri": "https://localhost:8080/"
        },
        "id": "vqD6BtzeW8ol",
        "outputId": "6f1b31df-3ece-41d7-93df-b4cb95447549"
      },
      "execution_count": 5,
      "outputs": [
        {
          "output_type": "stream",
          "name": "stdout",
          "text": [
            "number of days delayed: 12\n",
            "Total fine:  10 rupees\n"
          ]
        }
      ]
    },
    {
      "cell_type": "code",
      "source": [
        "char = input(\"Enter a character: \").lower()\n",
        "\n",
        "vowels = \"aeiou\"\n",
        "\n",
        "if char in vowels:\n",
        "  print(\" is a vowel.\")\n",
        "else:\n",
        "  print(\"not a vowel.\")\n"
      ],
      "metadata": {
        "colab": {
          "base_uri": "https://localhost:8080/"
        },
        "id": "hgwz-_2tXZg7",
        "outputId": "dcb8d070-22c3-4e7e-e022-303b9333e7ea"
      },
      "execution_count": 6,
      "outputs": [
        {
          "output_type": "stream",
          "name": "stdout",
          "text": [
            "Enter a character: b\n",
            "not a vowel.\n"
          ]
        }
      ]
    },
    {
      "cell_type": "code",
      "source": [
        "num = int(input(\"Enter a number: \"))\n",
        "factorial = 1\n",
        "\n",
        "if num < 0:\n",
        "  print(\"no factorial\")\n",
        "elif num == 0:\n",
        "  print(\"factorial of 0 is 1.\")\n",
        "else:\n",
        "  for i in range(1, num + 1):\n",
        "    factorial *= i\n",
        "  print(\"The factorial of\", num, \"is\", factorial)"
      ],
      "metadata": {
        "colab": {
          "base_uri": "https://localhost:8080/"
        },
        "id": "tY7iOCMzX06D",
        "outputId": "8b79a7b6-f9cb-4356-864b-8b4c3770e2ba"
      },
      "execution_count": 7,
      "outputs": [
        {
          "output_type": "stream",
          "name": "stdout",
          "text": [
            "Enter a number: 5\n",
            "The factorial of 5 is 120\n"
          ]
        }
      ]
    },
    {
      "cell_type": "code",
      "source": [
        "limit = int(input(\"Enter the limit for the Fibonacci sequence: \"))\n",
        "a, b = 0, 1\n",
        "\n",
        "print(a, end=\" \")\n",
        "print(b, end=\" \")\n",
        "\n",
        "for _ in range(2, limit):\n",
        "  c = a + b\n",
        "  print(c, end=\" \")\n",
        "  a, b = b, c\n"
      ],
      "metadata": {
        "colab": {
          "base_uri": "https://localhost:8080/"
        },
        "id": "OOi9D7wZX9Ih",
        "outputId": "4a41ccf5-7989-4d11-cb14-7faa89dd8545"
      },
      "execution_count": 8,
      "outputs": [
        {
          "output_type": "stream",
          "name": "stdout",
          "text": [
            "Enter the limit for the Fibonacci sequence: 6\n",
            "0 1 1 2 3 5 "
          ]
        }
      ]
    },
    {
      "cell_type": "code",
      "source": [
        "import random\n",
        "\n",
        "number = random.randint(1, 50)\n",
        "attempts = 5\n",
        "\n",
        "print(\"I'm thinking of a number between 1 and 50. attempts=5 find the num.\")\n",
        "for i in range(attempts):\n",
        "  guess = int(input(\"Guess a number: \"))\n",
        "\n",
        "  if guess < number:\n",
        "    print(\"its a greater number\")\n",
        "  elif guess > number:\n",
        "    print(\"its alesser number \")\n",
        "  else:\n",
        "    print(\"Congratulations! You guessed the number in\", i + 1, \"attempts.\")\n",
        "    break\n",
        "\n",
        "if guess != number:\n",
        "  print(\"You ran out of attempts. The number was\", number)\n"
      ],
      "metadata": {
        "colab": {
          "base_uri": "https://localhost:8080/"
        },
        "id": "7rQc_RV-Yv-8",
        "outputId": "0f487e62-616f-4797-ec51-78649b3eb3fa"
      },
      "execution_count": 2,
      "outputs": [
        {
          "output_type": "stream",
          "name": "stdout",
          "text": [
            "I'm thinking of a number between 1 and 50. attempts=5 find the num.\n",
            "Guess a number: 45\n",
            "its alesser number \n",
            "Guess a number: 23\n",
            "its alesser number \n",
            "Guess a number: 7\n",
            "its a greater number\n",
            "Guess a number: 14\n",
            "its alesser number \n",
            "Guess a number: 10\n",
            "Congratulations! You guessed the number in 5 attempts.\n"
          ]
        }
      ]
    },
    {
      "cell_type": "code",
      "source": [
        "while True:\n",
        "  print(\"\\nMenu:\")\n",
        "  print(\"a. Addition\")\n",
        "  print(\"b. Subtraction\")\n",
        "  print(\"c. Division\")\n",
        "  print(\"d. Multiplication\")\n",
        "  print(\"e. Exit\")\n",
        "\n",
        "  choice = input(\"Enter your choice (a-e): \")\n",
        "\n",
        "  if choice == 'a':\n",
        "    num1 = float(input(\"Enter first number: \"))\n",
        "    num2 = float(input(\"Enter second number: \"))\n",
        "    result = num1 + num2\n",
        "    print(\"Result:\", result)\n",
        "  elif choice == 'b':\n",
        "    num1 = float(input(\"Enter first number: \"))\n",
        "    num2 = float(input(\"Enter second number: \"))\n",
        "    result = num1 - num2\n",
        "    print(\"Result:\", result)\n",
        "  elif choice == 'c':\n",
        "    num1 = float(input(\"Enter first number: \"))\n",
        "    num2 = float(input(\"Enter second number: \"))\n",
        "    if num2 == 0:\n",
        "      print(\"Error: Division by zero\")\n",
        "    else:\n",
        "      result = num1 / num2\n",
        "      print(\"Result:\", result)\n",
        "  elif choice == 'd':\n",
        "    num1 = float(input(\"Enter first number: \"))\n",
        "    num2 = float(input(\"Enter second number: \"))\n",
        "    result = num1 * num2\n",
        "    print(\"Result:\", result)\n",
        "  elif choice == 'e':\n",
        "    break\n",
        "  else:\n",
        "    print(\"Invalid choice. Please try again.\")"
      ],
      "metadata": {
        "colab": {
          "base_uri": "https://localhost:8080/"
        },
        "id": "XTXZR92SbznQ",
        "outputId": "edb48a4c-7ff5-4845-b63c-4e7fcdb1359b"
      },
      "execution_count": 3,
      "outputs": [
        {
          "name": "stdout",
          "output_type": "stream",
          "text": [
            "\n",
            "Menu:\n",
            "a. Addition\n",
            "b. Subtraction\n",
            "c. Division\n",
            "d. Multiplication\n",
            "e. Exit\n",
            "Enter your choice (a-e): c\n",
            "Enter first number: 5\n",
            "Enter second number: 0\n",
            "Error: Division by zero\n",
            "\n",
            "Menu:\n",
            "a. Addition\n",
            "b. Subtraction\n",
            "c. Division\n",
            "d. Multiplication\n",
            "e. Exit\n",
            "Enter your choice (a-e): a\n",
            "Enter first number: 5\n",
            "Enter second number: 10\n",
            "Result: 15.0\n",
            "\n",
            "Menu:\n",
            "a. Addition\n",
            "b. Subtraction\n",
            "c. Division\n",
            "d. Multiplication\n",
            "e. Exit\n",
            "Enter your choice (a-e): e\n"
          ]
        }
      ]
    },
    {
      "cell_type": "code",
      "source": [],
      "metadata": {
        "id": "04sGJP5Tb2rE"
      },
      "execution_count": null,
      "outputs": []
    }
  ]
}