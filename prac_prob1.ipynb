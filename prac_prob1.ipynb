{
  "nbformat": 4,
  "nbformat_minor": 0,
  "metadata": {
    "colab": {
      "provenance": [],
      "authorship_tag": "ABX9TyPKNR36gpOaco1UnEvngUUh",
      "include_colab_link": true
    },
    "kernelspec": {
      "name": "python3",
      "display_name": "Python 3"
    },
    "language_info": {
      "name": "python"
    }
  },
  "cells": [
    {
      "cell_type": "markdown",
      "metadata": {
        "id": "view-in-github",
        "colab_type": "text"
      },
      "source": [
        "<a href=\"https://colab.research.google.com/github/stephintoto/ICT-ASSIGNMENTS/blob/main/prac_prob1.ipynb\" target=\"_parent\"><img src=\"https://colab.research.google.com/assets/colab-badge.svg\" alt=\"Open In Colab\"/></a>"
      ]
    },
    {
      "cell_type": "code",
      "source": [
        "import math\n",
        "radius = float(input(\"Please radius of circle: \"))\n",
        "area = math.pi * (radius ** 2)\n",
        "print(area)"
      ],
      "metadata": {
        "colab": {
          "base_uri": "https://localhost:8080/"
        },
        "id": "pqBvUhpNhsly",
        "outputId": "cf1bb702-7b18-431e-864b-69e01deee85f"
      },
      "execution_count": 1,
      "outputs": [
        {
          "output_type": "stream",
          "name": "stdout",
          "text": [
            "Please radius of circle: 3\n",
            "28.274333882308138\n"
          ]
        }
      ]
    },
    {
      "cell_type": "code",
      "source": [
        "name = input(\"Enter the name: \")\n",
        "roll_number = input(\"Enter the roll number: \")\n",
        "mark = input(\"Enter the mark: \")\n",
        "print(f\"Name: {name}\")\n",
        "print(f\"Roll No: {roll_number}\")\n",
        "print(f\"Mark: {mark}\")"
      ],
      "metadata": {
        "colab": {
          "base_uri": "https://localhost:8080/"
        },
        "id": "BtZ3PdGciPvL",
        "outputId": "286a9f32-752a-42fb-97a1-d129c8f67e57"
      },
      "execution_count": 2,
      "outputs": [
        {
          "output_type": "stream",
          "name": "stdout",
          "text": [
            "Enter the name: stephin\n",
            "Enter the roll number: 50\n",
            "Enter the mark: 98\n",
            "Name: stephin\n",
            "Roll No: 50\n",
            "Mark: 98\n"
          ]
        }
      ]
    },
    {
      "cell_type": "code",
      "source": [
        "input_numbers = input(\"Enter numbers : \")\n",
        "numbers = [int(num.strip()) for num in input_numbers.split(',')]\n",
        "largest_number = max(numbers)\n",
        "print('largest',largest_number)"
      ],
      "metadata": {
        "colab": {
          "base_uri": "https://localhost:8080/"
        },
        "id": "uEpm65kyictZ",
        "outputId": "9a0c5fb4-3dd2-4c7a-e6ee-b0421b5a24cb"
      },
      "execution_count": 3,
      "outputs": [
        {
          "output_type": "stream",
          "name": "stdout",
          "text": [
            "Enter numbers : 14,1,17,9\n",
            "largest 17\n"
          ]
        }
      ]
    },
    {
      "cell_type": "code",
      "source": [
        "start= 1\n",
        "end= 10\n",
        "prev = 0\n",
        "\n",
        "for current in range(start, end+ 1):\n",
        "    total_sum = current + prev\n",
        "    print(f\"Current Number: {current} Previous Number: {prev} Sum: {total_sum}\")\n",
        "    prev = current"
      ],
      "metadata": {
        "colab": {
          "base_uri": "https://localhost:8080/"
        },
        "id": "uwizDY-arOfx",
        "outputId": "cfb18b26-cf04-40b9-a23d-973650ca98ea"
      },
      "execution_count": 4,
      "outputs": [
        {
          "output_type": "stream",
          "name": "stdout",
          "text": [
            "Current Number: 1 Previous Number: 0 Sum: 1\n",
            "Current Number: 2 Previous Number: 1 Sum: 3\n",
            "Current Number: 3 Previous Number: 2 Sum: 5\n",
            "Current Number: 4 Previous Number: 3 Sum: 7\n",
            "Current Number: 5 Previous Number: 4 Sum: 9\n",
            "Current Number: 6 Previous Number: 5 Sum: 11\n",
            "Current Number: 7 Previous Number: 6 Sum: 13\n",
            "Current Number: 8 Previous Number: 7 Sum: 15\n",
            "Current Number: 9 Previous Number: 8 Sum: 17\n",
            "Current Number: 10 Previous Number: 9 Sum: 19\n"
          ]
        }
      ]
    },
    {
      "cell_type": "code",
      "source": [
        "input_num = input(\"Enter numbers: \")\n",
        "numbers = [int(num.strip()) for num in input_num.split(',')]\n",
        "div_five = []\n",
        "for num in numbers:\n",
        "    if num % 5 == 0:\n",
        "        div_five.append(num)\n",
        "\n",
        "print(\"Numbers divisible by 5:\",div_five)"
      ],
      "metadata": {
        "colab": {
          "base_uri": "https://localhost:8080/"
        },
        "id": "VChI76BAtqOY",
        "outputId": "568e4cc9-20b8-407b-b9c8-3d55f99b7ed7"
      },
      "execution_count": 5,
      "outputs": [
        {
          "output_type": "stream",
          "name": "stdout",
          "text": [
            "Enter numbers: 10,20,33,42,15\n",
            "Numbers divisible by 5: [10, 20, 15]\n"
          ]
        }
      ]
    },
    {
      "cell_type": "code",
      "source": [
        "number = int(input(\"Enter the number: \"))\n",
        "is_prime = True\n",
        "if number <= 1:\n",
        "    is_prime = False\n",
        "else:\n",
        "    for i in range(2, number):\n",
        "        if number % i == 0:\n",
        "            is_prime = False\n",
        "            break\n",
        "\n",
        "if is_prime:\n",
        "    print(f\"{number} is a prime number.\")\n",
        "else:\n",
        "    print(f\"{number} is not a prime number.\")"
      ],
      "metadata": {
        "colab": {
          "base_uri": "https://localhost:8080/"
        },
        "id": "2n8bqYraucn-",
        "outputId": "73b93a8c-67a7-4d62-eacd-d4d89fa56123"
      },
      "execution_count": 6,
      "outputs": [
        {
          "output_type": "stream",
          "name": "stdout",
          "text": [
            "Enter the number: 3\n",
            "3 is a prime number.\n"
          ]
        }
      ]
    },
    {
      "cell_type": "code",
      "source": [
        "input_numbers = input(\"Enter numbers: \")\n",
        "numbers = [int(num.strip()) for num in input_numbers.split(',')]\n",
        "reversed_numbers = []\n",
        "for num in numbers:\n",
        "    reversed_numbers.insert(0, num)\n",
        "print(reversed_numbers)"
      ],
      "metadata": {
        "colab": {
          "base_uri": "https://localhost:8080/"
        },
        "id": "ZJwaG3AMvlFP",
        "outputId": "240995ff-bf6b-4654-b030-fb3ed360f068"
      },
      "execution_count": 7,
      "outputs": [
        {
          "output_type": "stream",
          "name": "stdout",
          "text": [
            "Enter numbers: 1,2,3,4,5\n",
            "[5, 4, 3, 2, 1]\n"
          ]
        }
      ]
    },
    {
      "cell_type": "code",
      "source": [
        "num_rows = 4\n",
        "for i in range(1, num_rows + 1):\n",
        " print('*' * i)"
      ],
      "metadata": {
        "colab": {
          "base_uri": "https://localhost:8080/"
        },
        "id": "ygAzrMx14Omj",
        "outputId": "3df3efb8-e901-4224-ea66-7cf0caecaff8"
      },
      "execution_count": 8,
      "outputs": [
        {
          "output_type": "stream",
          "name": "stdout",
          "text": [
            "*\n",
            "**\n",
            "***\n",
            "****\n"
          ]
        }
      ]
    },
    {
      "cell_type": "code",
      "source": [
        "num1 = int(input(\"Enter first number: \"))\n",
        "num2 = int(input(\"Enter second number: \"))\n",
        "num3 = int(input(\"Enter third number: \"))\n",
        "\n",
        "maximum = max(num1, num2, num3)\n",
        "\n",
        "print(\"The maximum number is:\", maximum)\n"
      ],
      "metadata": {
        "colab": {
          "base_uri": "https://localhost:8080/"
        },
        "id": "7iT7qd5X9s1q",
        "outputId": "318d6f3d-c919-48e2-873f-66c380a361cd"
      },
      "execution_count": 9,
      "outputs": [
        {
          "output_type": "stream",
          "name": "stdout",
          "text": [
            "Enter first number: 34\n",
            "Enter second number: 22\n",
            "Enter third number: 14\n",
            "The maximum number is: 34\n"
          ]
        }
      ]
    },
    {
      "cell_type": "code",
      "source": [
        "num_rows = 5\n",
        "\n",
        "for i in range(1, num_rows + 1):\n",
        "    for j in range(i):\n",
        "        print('*', end='')\n",
        "    print()\n",
        "\n",
        "for i in range(num_rows - 1, 0, -1):\n",
        "    for j in range(i):\n",
        "        print('*', end='')\n",
        "    print()"
      ],
      "metadata": {
        "colab": {
          "base_uri": "https://localhost:8080/"
        },
        "id": "kgT0Ca0W95Zm",
        "outputId": "94ad4538-01ad-4729-f130-57e5807ce4b6"
      },
      "execution_count": 10,
      "outputs": [
        {
          "output_type": "stream",
          "name": "stdout",
          "text": [
            "*\n",
            "**\n",
            "***\n",
            "****\n",
            "*****\n",
            "****\n",
            "***\n",
            "**\n",
            "*\n"
          ]
        }
      ]
    }
  ]
}